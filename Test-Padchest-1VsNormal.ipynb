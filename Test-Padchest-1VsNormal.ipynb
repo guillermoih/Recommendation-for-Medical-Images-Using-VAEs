{
 "cells": [
  {
   "cell_type": "markdown",
   "metadata": {},
   "source": [
    "# Imports"
   ]
  },
  {
   "cell_type": "code",
   "execution_count": 1,
   "metadata": {
    "ExecuteTime": {
     "end_time": "2024-05-17T18:14:52.403570Z",
     "start_time": "2024-05-17T18:14:52.358989Z"
    }
   },
   "outputs": [],
   "source": [
    "%reload_ext autoreload\n",
    "%autoreload 2"
   ]
  },
  {
   "cell_type": "code",
   "execution_count": 48,
   "metadata": {
    "ExecuteTime": {
     "end_time": "2024-05-17T18:38:39.163166Z",
     "start_time": "2024-05-17T18:38:39.113322Z"
    }
   },
   "outputs": [],
   "source": [
    "import json, pickle\n",
    "\n",
    "import pandas as pd\n",
    "\n",
    "from tabulate import tabulate\n",
    "\n",
    "import tensorflow as tf\n",
    "from tensorflow.keras.models import load_model\n",
    "from utils.recommendation import *\n",
    "from dataset.dataset_padchest import *"
   ]
  },
  {
   "cell_type": "code",
   "execution_count": 3,
   "metadata": {
    "ExecuteTime": {
     "end_time": "2024-05-17T18:14:56.295828Z",
     "start_time": "2024-05-17T18:14:56.245159Z"
    }
   },
   "outputs": [],
   "source": [
    "@tf.function()\n",
    "def sampling(args):\n",
    "    z_mean, z_log_sigma = args\n",
    "    epsilon = tf.random.normal(shape=(tf.shape(z_mean)[0], config['model']['latent_dim']), mean=0., stddev=0.1)\n",
    "    return z_mean + tf.math.exp(z_log_sigma) * epsilon"
   ]
  },
  {
   "cell_type": "markdown",
   "metadata": {},
   "source": [
    "# Data load"
   ]
  },
  {
   "cell_type": "code",
   "execution_count": 4,
   "metadata": {
    "ExecuteTime": {
     "end_time": "2024-05-17T18:14:56.349757Z",
     "start_time": "2024-05-17T18:14:56.298134Z"
    }
   },
   "outputs": [],
   "source": [
    "with open('./config.json', 'r') as f:\n",
    "    config = json.load(f)"
   ]
  },
  {
   "cell_type": "code",
   "execution_count": 5,
   "metadata": {
    "ExecuteTime": {
     "end_time": "2024-05-17T18:14:58.796983Z",
     "start_time": "2024-05-17T18:14:56.352022Z"
    }
   },
   "outputs": [],
   "source": [
    "data = Dataset(config)\n",
    "\n",
    "with open(config[\"PATHS\"][\"IMAGES_PATH\"] + \"\", 'rb') as f:\n",
    "    data = pickle.load(f)"
   ]
  },
  {
   "cell_type": "code",
   "execution_count": 6,
   "metadata": {
    "ExecuteTime": {
     "end_time": "2024-05-17T18:14:58.853383Z",
     "start_time": "2024-05-17T18:14:58.799551Z"
    }
   },
   "outputs": [],
   "source": [
    "LABELS = sorted(config[\"padchest\"][\"label_names\"], key=config[\"padchest\"][\"label_names\"].get)"
   ]
  },
  {
   "cell_type": "markdown",
   "metadata": {},
   "source": [
    "# Precision@k"
   ]
  },
  {
   "cell_type": "code",
   "execution_count": 51,
   "metadata": {
    "ExecuteTime": {
     "end_time": "2024-05-17T18:40:10.472797Z",
     "start_time": "2024-05-17T18:40:10.423631Z"
    }
   },
   "outputs": [],
   "source": [
    "BASE_PATH = ''\n",
    "model_name = BASE_PATH + 'results_padchest_v33_MOCVAE/models/'"
   ]
  },
  {
   "cell_type": "code",
   "execution_count": 52,
   "metadata": {
    "ExecuteTime": {
     "end_time": "2024-05-17T18:40:11.821865Z",
     "start_time": "2024-05-17T18:40:10.579926Z"
    }
   },
   "outputs": [
    {
     "name": "stderr",
     "output_type": "stream",
     "text": [
      "/opt/conda/lib/python3.8/site-packages/tensorflow/python/keras/layers/core.py:1043: UserWarning: models.model_MOCVAE is not loaded, but a Lambda layer uses it. It may cause errors.\n",
      "  warnings.warn('{} is not loaded, but a Lambda layer uses it. '\n"
     ]
    },
    {
     "name": "stdout",
     "output_type": "stream",
     "text": [
      "WARNING:tensorflow:No training configuration found in the save file, so the model was *not* compiled. Compile it manually.\n"
     ]
    }
   ],
   "source": [
    "encoder = load_model(model_name + 'e_best_encoder.h5', custom_objects={'sampling': sampling})"
   ]
  },
  {
   "cell_type": "code",
   "execution_count": 53,
   "metadata": {
    "ExecuteTime": {
     "end_time": "2024-05-17T18:40:52.188843Z",
     "start_time": "2024-05-17T18:40:11.892242Z"
    }
   },
   "outputs": [
    {
     "name": "stdout",
     "output_type": "stream",
     "text": [
      "\n",
      "-----Label  cardiomegaly -----\n",
      "Model accuracy with k= 3  neighbors:  59.670781893004126  +- 34.43291299713407\n",
      "Model accuracy with k= 4  neighbors:  59.5679012345679  +- 30.57269752355504\n",
      "Model accuracy with k= 5  neighbors:  58.27160493827161  +- 28.57911364843819\n",
      "Model accuracy with k= 10  neighbors:  56.48148148148148  +- 23.47765478808355\n",
      "\n",
      "-----Label  aortic elongation -----\n",
      "Model accuracy with k= 3  neighbors:  58.80149812734081  +- 31.21448170189458\n",
      "Model accuracy with k= 4  neighbors:  59.12921348314607  +- 27.364582630244126\n",
      "Model accuracy with k= 5  neighbors:  57.07865168539326  +- 25.448880118890166\n",
      "Model accuracy with k= 10  neighbors:  54.38202247191011  +- 21.11791699911517\n",
      "\n",
      "-----Label  scoliosis -----\n",
      "Model accuracy with k= 3  neighbors:  62.31060606060605  +- 33.70946107993062\n",
      "Model accuracy with k= 4  neighbors:  62.07386363636363  +- 30.615656252962907\n",
      "Model accuracy with k= 5  neighbors:  60.56818181818182  +- 29.804589127479197\n",
      "Model accuracy with k= 10  neighbors:  56.98863636363637  +- 26.746280250371356\n"
     ]
    }
   ],
   "source": [
    "acc_mean_dict = {}\n",
    "acc_stddev_dict = {}\n",
    "\n",
    "for label_base in LABELS:\n",
    "    if label_base!='normal':\n",
    "        print(\"\\n-----Label \", label_base, \"-----\")\n",
    "\n",
    "        acc_mean_dict[label_base] = []\n",
    "        acc_stddev_dict[label_base] = []\n",
    "\n",
    "        for k in [3,4,5,10]:\n",
    "            if model_name[-14:-8] == 'MOCVAE':\n",
    "                res_class = get_recom_results_normal(data, encoder, label_base, n_imgs=500, n_neighbors=k, vae=True)\n",
    "            else:\n",
    "                res_class = get_recom_results_normal(data, encoder, label_base, n_imgs=500, n_neighbors=k)\n",
    "\n",
    "            acc_mean, acc_stddev = get_recom_acc(res_class)\n",
    "\n",
    "            print(\"Model accuracy with k=\", k , \" neighbors: \", acc_mean, \" +-\", acc_stddev)\n",
    "\n",
    "            acc_mean_dict[label_base].append(acc_mean)\n",
    "            acc_stddev_dict[label_base].append(acc_stddev)\n",
    "\n",
    "    df_acc_mean = pd.DataFrame.from_dict(acc_mean_dict, orient='index', columns=[3, 4, 5, 10])\n",
    "    df_acc_stddev = pd.DataFrame.from_dict(acc_stddev_dict, orient='index', columns=[3, 4, 5, 10])"
   ]
  },
  {
   "cell_type": "code",
   "execution_count": 54,
   "metadata": {
    "ExecuteTime": {
     "end_time": "2024-05-17T18:40:52.659495Z",
     "start_time": "2024-05-17T18:40:52.271405Z"
    }
   },
   "outputs": [
    {
     "data": {
      "text/plain": [
       "<AxesSubplot:>"
      ]
     },
     "execution_count": 54,
     "metadata": {},
     "output_type": "execute_result"
    },
    {
     "data": {
      "image/png": "[encoded data removed]",
      "text/plain": [
       "<Figure size 1440x360 with 1 Axes>"
      ]
     },
     "metadata": {
      "needs_background": "light"
     },
     "output_type": "display_data"
    }
   ],
   "source": [
    "df_acc_mean.plot.bar(figsize=(20, 5), rot=45, fontsize=15, ylim=[50,75])"
   ]
  },
  {
   "cell_type": "code",
   "execution_count": 57,
   "metadata": {
    "ExecuteTime": {
     "end_time": "2024-05-17T18:43:30.831315Z",
     "start_time": "2024-05-17T18:43:30.768545Z"
    },
    "scrolled": true
   },
   "outputs": [
    {
     "data": {
      "text/html": [
       "<div>\n",
       "<style scoped>\n",
       "    .dataframe tbody tr th:only-of-type {\n",
       "        vertical-align: middle;\n",
       "    }\n",
       "\n",
       "    .dataframe tbody tr th {\n",
       "        vertical-align: top;\n",
       "    }\n",
       "\n",
       "    .dataframe thead th {\n",
       "        text-align: right;\n",
       "    }\n",
       "</style>\n",
       "<table border=\"1\" class=\"dataframe\">\n",
       "  <thead>\n",
       "    <tr style=\"text-align: right;\">\n",
       "      <th></th>\n",
       "      <th>3</th>\n",
       "      <th>4</th>\n",
       "      <th>5</th>\n",
       "      <th>10</th>\n",
       "    </tr>\n",
       "  </thead>\n",
       "  <tbody>\n",
       "    <tr>\n",
       "      <th>cardiomegaly</th>\n",
       "      <td>59.67+-34</td>\n",
       "      <td>59.57+-31</td>\n",
       "      <td>58.27+-29</td>\n",
       "      <td>56.48+-23</td>\n",
       "    </tr>\n",
       "    <tr>\n",
       "      <th>aortic elongation</th>\n",
       "      <td>58.80+-31</td>\n",
       "      <td>59.13+-27</td>\n",
       "      <td>57.08+-25</td>\n",
       "      <td>54.38+-21</td>\n",
       "    </tr>\n",
       "    <tr>\n",
       "      <th>scoliosis</th>\n",
       "      <td>62.31+-34</td>\n",
       "      <td>62.07+-31</td>\n",
       "      <td>60.57+-30</td>\n",
       "      <td>56.99+-27</td>\n",
       "    </tr>\n",
       "  </tbody>\n",
       "</table>\n",
       "</div>"
      ],
      "text/plain": [
       "                          3          4          5          10\n",
       "cardiomegaly       59.67+-34  59.57+-31  58.27+-29  56.48+-23\n",
       "aortic elongation  58.80+-31  59.13+-27  57.08+-25  54.38+-21\n",
       "scoliosis          62.31+-34  62.07+-31  60.57+-30  56.99+-27"
      ]
     },
     "execution_count": 57,
     "metadata": {},
     "output_type": "execute_result"
    }
   ],
   "source": [
    "df_combined = df_acc_mean.applymap(lambda x: f\"{x:.2f}\") + '+-' + df_acc_stddev.applymap(lambda x: f\"{x:.0f}\")\n",
    "df_combined"
   ]
  },
  {
   "cell_type": "code",
   "execution_count": 58,
   "metadata": {
    "ExecuteTime": {
     "end_time": "2024-05-17T18:43:31.016432Z",
     "start_time": "2024-05-17T18:43:30.962286Z"
    }
   },
   "outputs": [
    {
     "name": "stdout",
     "output_type": "stream",
     "text": [
      "\\begin{tabular}{lllll}\n",
      "\\hline\n",
      " cardiomegaly      & 59.67$\\pm$34 & 59.57$\\pm$31 & 58.27$\\pm$29 & 56.48$\\pm$23 \\\\\n",
      " aortic elongation & 58.80$\\pm$31 & 59.13$\\pm$27 & 57.08$\\pm$25 & 54.38$\\pm$21 \\\\\n",
      " scoliosis         & 62.31$\\pm$34 & 62.07$\\pm$31 & 60.57$\\pm$30 & 56.99$\\pm$27 \\\\\n",
      "\\hline\n",
      "\\end{tabular}\n"
     ]
    }
   ],
   "source": [
    "df_combined = df_combined.applymap(lambda x: x.replace('+-', '$\\pm$'))\n",
    "print(tabulate(df_combined, tablefmt=\"latex_raw\"))"
   ]
  },
  {
   "cell_type": "markdown",
   "metadata": {},
   "source": [
    "# Wass distance"
   ]
  },
  {
   "cell_type": "code",
   "execution_count": 22,
   "metadata": {
    "ExecuteTime": {
     "end_time": "2024-05-17T18:20:44.928626Z",
     "start_time": "2024-05-17T18:20:44.878546Z"
    }
   },
   "outputs": [],
   "source": [
    "BASE_PATH = ''\n",
    "model_name = BASE_PATH + 'results_padchest_v33_MOCVAE/models/'"
   ]
  },
  {
   "cell_type": "code",
   "execution_count": 23,
   "metadata": {
    "ExecuteTime": {
     "end_time": "2024-05-17T18:20:46.388727Z",
     "start_time": "2024-05-17T18:20:45.101224Z"
    }
   },
   "outputs": [
    {
     "name": "stderr",
     "output_type": "stream",
     "text": [
      "/opt/conda/lib/python3.8/site-packages/tensorflow/python/keras/layers/core.py:1043: UserWarning: models.model_MOCVAE is not loaded, but a Lambda layer uses it. It may cause errors.\n",
      "  warnings.warn('{} is not loaded, but a Lambda layer uses it. '\n"
     ]
    },
    {
     "name": "stdout",
     "output_type": "stream",
     "text": [
      "WARNING:tensorflow:No training configuration found in the save file, so the model was *not* compiled. Compile it manually.\n"
     ]
    }
   ],
   "source": [
    "encoder = load_model(model_name + 'e_best_encoder.h5', custom_objects={'sampling': sampling})"
   ]
  },
  {
   "cell_type": "code",
   "execution_count": 24,
   "metadata": {
    "ExecuteTime": {
     "end_time": "2024-05-17T18:35:13.108392Z",
     "start_time": "2024-05-17T18:20:46.463001Z"
    }
   },
   "outputs": [
    {
     "name": "stdout",
     "output_type": "stream",
     "text": [
      "\n",
      "-----Label  cardiomegaly -----\n",
      "Model wasserstein distance k= 3  neighbors:  0.4395185632731099  +- 0.16248287663983235\n",
      "Model wasserstein distance k= 4  neighbors:  0.45417442980403117  +- 0.16857886103067576\n",
      "Model wasserstein distance k= 5  neighbors:  0.46083114590637725  +- 0.16348675665853446\n",
      "Model wasserstein distance k= 10  neighbors:  0.4841412030578295  +- 0.1659331632409058\n",
      "\n",
      "-----Label  aortic elongation -----\n",
      "Model wasserstein distance k= 3  neighbors:  0.4189464231479325  +- 0.1793462375820143\n",
      "Model wasserstein distance k= 4  neighbors:  0.4231614483836408  +- 0.17577390661852646\n",
      "Model wasserstein distance k= 5  neighbors:  0.42648490683300777  +- 0.1708592261514678\n",
      "Model wasserstein distance k= 10  neighbors:  0.45200730594786237  +- 0.1633758693550754\n",
      "\n",
      "-----Label  scoliosis -----\n",
      "Model wasserstein distance k= 3  neighbors:  0.46188679463824944  +- 0.15909845580214677\n",
      "Model wasserstein distance k= 4  neighbors:  0.47004044945823387  +- 0.16196067886517493\n",
      "Model wasserstein distance k= 5  neighbors:  0.47736925482960874  +- 0.16153463931807252\n",
      "Model wasserstein distance k= 10  neighbors:  0.5050342572874699  +- 0.1778778575595475\n"
     ]
    }
   ],
   "source": [
    "acc_mean_dict = {}\n",
    "acc_stddev_dict = {}\n",
    "\n",
    "for label_base in LABELS:\n",
    "    if label_base!='normal':\n",
    "        print(\"\\n-----Label \", label_base, \"-----\")\n",
    "\n",
    "        acc_mean_dict[label_base] = []\n",
    "        acc_stddev_dict[label_base] = []\n",
    "\n",
    "        for k in [3,4,5,10]:\n",
    "            if model_name[-14:-8] == 'MOCVAE':\n",
    "                res_class = get_distance_results_normal(data, encoder, label_base, n_imgs=500, n_neighbors=k, vae=True)\n",
    "            else:\n",
    "                res_class = get_distance_results_normal(data, encoder, label_base, n_imgs=500, n_neighbors=k)\n",
    "\n",
    "            acc_mean, acc_stddev = get_dist_acc(res_class)\n",
    "\n",
    "            print(\"Model wasserstein distance k=\", k , \" neighbors: \", acc_mean, \" +-\", acc_stddev)\n",
    "\n",
    "            acc_mean_dict[label_base].append(acc_mean)\n",
    "            acc_stddev_dict[label_base].append(acc_stddev)\n",
    "\n",
    "    df_acc_mean = pd.DataFrame.from_dict(acc_mean_dict, orient='index', columns=[3, 4, 5, 10])\n",
    "    df_acc_stddev = pd.DataFrame.from_dict(acc_stddev_dict, orient='index', columns=[3, 4, 5, 10])"
   ]
  },
  {
   "cell_type": "code",
   "execution_count": 29,
   "metadata": {
    "ExecuteTime": {
     "end_time": "2024-05-17T18:36:14.789240Z",
     "start_time": "2024-05-17T18:36:14.425151Z"
    }
   },
   "outputs": [
    {
     "data": {
      "text/plain": [
       "<AxesSubplot:>"
      ]
     },
     "execution_count": 29,
     "metadata": {},
     "output_type": "execute_result"
    },
    {
     "data": {
      "image/png": "[encoded data removed]",
      "text/plain": [
       "<Figure size 1440x360 with 1 Axes>"
      ]
     },
     "metadata": {
      "needs_background": "light"
     },
     "output_type": "display_data"
    }
   ],
   "source": [
    "df_acc_mean.plot.bar(figsize=(20, 5), rot=45, fontsize=15, ylim=[0.4,0.6])"
   ]
  },
  {
   "cell_type": "code",
   "execution_count": 46,
   "metadata": {
    "ExecuteTime": {
     "end_time": "2024-05-17T18:38:01.022626Z",
     "start_time": "2024-05-17T18:38:00.959947Z"
    },
    "scrolled": true
   },
   "outputs": [
    {
     "data": {
      "text/html": [
       "<div>\n",
       "<style scoped>\n",
       "    .dataframe tbody tr th:only-of-type {\n",
       "        vertical-align: middle;\n",
       "    }\n",
       "\n",
       "    .dataframe tbody tr th {\n",
       "        vertical-align: top;\n",
       "    }\n",
       "\n",
       "    .dataframe thead th {\n",
       "        text-align: right;\n",
       "    }\n",
       "</style>\n",
       "<table border=\"1\" class=\"dataframe\">\n",
       "  <thead>\n",
       "    <tr style=\"text-align: right;\">\n",
       "      <th></th>\n",
       "      <th>3</th>\n",
       "      <th>4</th>\n",
       "      <th>5</th>\n",
       "      <th>10</th>\n",
       "    </tr>\n",
       "  </thead>\n",
       "  <tbody>\n",
       "    <tr>\n",
       "      <th>cardiomegaly</th>\n",
       "      <td>0.44+-0.2</td>\n",
       "      <td>0.45+-0.2</td>\n",
       "      <td>0.46+-0.2</td>\n",
       "      <td>0.48+-0.2</td>\n",
       "    </tr>\n",
       "    <tr>\n",
       "      <th>aortic elongation</th>\n",
       "      <td>0.42+-0.2</td>\n",
       "      <td>0.42+-0.2</td>\n",
       "      <td>0.43+-0.2</td>\n",
       "      <td>0.45+-0.2</td>\n",
       "    </tr>\n",
       "    <tr>\n",
       "      <th>scoliosis</th>\n",
       "      <td>0.46+-0.2</td>\n",
       "      <td>0.47+-0.2</td>\n",
       "      <td>0.48+-0.2</td>\n",
       "      <td>0.51+-0.2</td>\n",
       "    </tr>\n",
       "  </tbody>\n",
       "</table>\n",
       "</div>"
      ],
      "text/plain": [
       "                          3          4          5          10\n",
       "cardiomegaly       0.44+-0.2  0.45+-0.2  0.46+-0.2  0.48+-0.2\n",
       "aortic elongation  0.42+-0.2  0.42+-0.2  0.43+-0.2  0.45+-0.2\n",
       "scoliosis          0.46+-0.2  0.47+-0.2  0.48+-0.2  0.51+-0.2"
      ]
     },
     "execution_count": 46,
     "metadata": {},
     "output_type": "execute_result"
    }
   ],
   "source": [
    "df_combined = df_acc_mean.applymap(lambda x: f\"{x:.2f}\") + '+-' + df_acc_stddev.applymap(lambda x: f\"{x:.1f}\")\n",
    "df_combined"
   ]
  },
  {
   "cell_type": "code",
   "execution_count": 50,
   "metadata": {
    "ExecuteTime": {
     "end_time": "2024-05-17T18:40:03.107859Z",
     "start_time": "2024-05-17T18:40:03.054160Z"
    }
   },
   "outputs": [
    {
     "name": "stdout",
     "output_type": "stream",
     "text": [
      "\\begin{tabular}{lllll}\n",
      "\\hline\n",
      " cardiomegaly      & 0.44$\\pm$0.2 & 0.45$\\pm$0.2 & 0.46$\\pm$0.2 & 0.48$\\pm$0.2 \\\\\n",
      " aortic elongation & 0.42$\\pm$0.2 & 0.42$\\pm$0.2 & 0.43$\\pm$0.2 & 0.45$\\pm$0.2 \\\\\n",
      " scoliosis         & 0.46$\\pm$0.2 & 0.47$\\pm$0.2 & 0.48$\\pm$0.2 & 0.51$\\pm$0.2 \\\\\n",
      "\\hline\n",
      "\\end{tabular}\n"
     ]
    }
   ],
   "source": [
    "df_combined = df_combined.applymap(lambda x: x.replace('+-', '$\\pm$'))\n",
    "print(tabulate(df_combined, tablefmt=\"latex_raw\"))"
   ]
  },
  {
   "cell_type": "code",
   "execution_count": null,
   "metadata": {},
   "outputs": [],
   "source": []
  }
 ],
 "metadata": {
  "accelerator": "GPU",
  "colab": {
   "authorship_tag": "ABX9TyOWnpEtbtBYdwzbkV75yS8R",
   "collapsed_sections": [],
   "name": "Autoencoder CBIR.ipynb",
   "provenance": []
  },
  "kernelspec": {
   "display_name": "Python 3",
   "language": "python",
   "name": "python3"
  },
  "language_info": {
   "codemirror_mode": {
    "name": "ipython",
    "version": 3
   },
   "file_extension": ".py",
   "mimetype": "text/x-python",
   "name": "python",
   "nbconvert_exporter": "python",
   "pygments_lexer": "ipython3",
   "version": "3.8.5"
  },
  "toc": {
   "base_numbering": 1,
   "nav_menu": {},
   "number_sections": false,
   "sideBar": true,
   "skip_h1_title": false,
   "title_cell": "Table of Contents",
   "title_sidebar": "Contents",
   "toc_cell": false,
   "toc_position": {
    "height": "calc(100% - 180px)",
    "left": "10px",
    "top": "150px",
    "width": "512px"
   },
   "toc_section_display": true,
   "toc_window_display": false
  },
  "varInspector": {
   "cols": {
    "lenName": 16,
    "lenType": 16,
    "lenVar": 40
   },
   "kernels_config": {
    "python": {
     "delete_cmd_postfix": "",
     "delete_cmd_prefix": "del ",
     "library": "var_list.py",
     "varRefreshCmd": "print(var_dic_list())"
    },
    "r": {
     "delete_cmd_postfix": ") ",
     "delete_cmd_prefix": "rm(",
     "library": "var_list.r",
     "varRefreshCmd": "cat(var_dic_list()) "
    }
   },
   "position": {
    "height": "350.844px",
    "left": "2191px",
    "right": "20px",
    "top": "120px",
    "width": "350px"
   },
   "types_to_exclude": [
    "module",
    "function",
    "builtin_function_or_method",
    "instance",
    "_Feature"
   ],
   "window_display": false
  }
 },
 "nbformat": 4,
 "nbformat_minor": 1
}
