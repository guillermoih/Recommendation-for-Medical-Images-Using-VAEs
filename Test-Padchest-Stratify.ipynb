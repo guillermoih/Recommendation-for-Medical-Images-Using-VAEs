{
 "cells": [
  {
   "cell_type": "markdown",
   "metadata": {},
   "source": [
    "# Imports"
   ]
  },
  {
   "cell_type": "code",
   "execution_count": 1,
   "metadata": {
    "ExecuteTime": {
     "end_time": "2024-04-10T14:07:25.854070Z",
     "start_time": "2024-04-10T14:07:25.834206Z"
    }
   },
   "outputs": [],
   "source": [
    "%reload_ext autoreload\n",
    "%autoreload 2"
   ]
  },
  {
   "cell_type": "code",
   "execution_count": 2,
   "metadata": {
    "ExecuteTime": {
     "end_time": "2024-04-10T14:07:30.323815Z",
     "start_time": "2024-04-10T14:07:26.012526Z"
    }
   },
   "outputs": [],
   "source": [
    "import json, pickle\n",
    "\n",
    "import pandas as pd\n",
    "\n",
    "import tensorflow as tf\n",
    "from tensorflow.keras.models import load_model\n",
    "from utils.recommendation import *\n",
    "from dataset.dataset_padchest import *"
   ]
  },
  {
   "cell_type": "code",
   "execution_count": 3,
   "metadata": {
    "ExecuteTime": {
     "end_time": "2024-04-10T14:07:30.509919Z",
     "start_time": "2024-04-10T14:07:30.415445Z"
    }
   },
   "outputs": [],
   "source": [
    "@tf.function()\n",
    "def sampling(args):\n",
    "    z_mean, z_log_sigma = args\n",
    "    epsilon = tf.random.normal(shape=(tf.shape(z_mean)[0], config['model']['latent_dim']), mean=0., stddev=0.1)\n",
    "    return z_mean + tf.math.exp(z_log_sigma) * epsilon"
   ]
  },
  {
   "cell_type": "markdown",
   "metadata": {},
   "source": [
    "# Data load"
   ]
  },
  {
   "cell_type": "code",
   "execution_count": 4,
   "metadata": {
    "ExecuteTime": {
     "end_time": "2024-04-10T14:07:30.630680Z",
     "start_time": "2024-04-10T14:07:30.581663Z"
    }
   },
   "outputs": [],
   "source": [
    "with open('', 'r') as f:\n",
    "    config = json.load(f)"
   ]
  },
  {
   "cell_type": "code",
   "execution_count": 5,
   "metadata": {
    "ExecuteTime": {
     "end_time": "2024-04-10T14:07:34.151412Z",
     "start_time": "2024-04-10T14:07:30.685683Z"
    }
   },
   "outputs": [],
   "source": [
    "data = Dataset(config)\n",
    "\n",
    "with open(config[\"PATHS\"][\"IMAGES_PATH\"] + \"\", 'rb') as f:\n",
    "    data = pickle.load(f)"
   ]
  },
  {
   "cell_type": "code",
   "execution_count": 6,
   "metadata": {
    "ExecuteTime": {
     "end_time": "2024-04-10T14:07:34.294866Z",
     "start_time": "2024-04-10T14:07:34.232376Z"
    }
   },
   "outputs": [],
   "source": [
    "LABELS = sorted(config[\"padchest\"][\"label_names\"], key=config[\"padchest\"][\"label_names\"].get)"
   ]
  },
  {
   "cell_type": "markdown",
   "metadata": {},
   "source": [
    "# Stratify results"
   ]
  },
  {
   "cell_type": "markdown",
   "metadata": {},
   "source": [
    "## Precision@k"
   ]
  },
  {
   "cell_type": "code",
   "execution_count": 7,
   "metadata": {
    "ExecuteTime": {
     "end_time": "2024-04-07T18:46:58.389573Z",
     "start_time": "2024-04-07T18:46:58.292245Z"
    }
   },
   "outputs": [],
   "source": [
    "BASE_PATH = ''\n",
    "model_name = BASE_PATH + 'results_padchest_v33_MOCVAE/models/'"
   ]
  },
  {
   "cell_type": "code",
   "execution_count": 8,
   "metadata": {
    "ExecuteTime": {
     "end_time": "2024-04-07T18:47:09.358389Z",
     "start_time": "2024-04-07T18:46:58.392445Z"
    }
   },
   "outputs": [
    {
     "name": "stderr",
     "output_type": "stream",
     "text": [
      "/opt/conda/lib/python3.8/site-packages/tensorflow/python/keras/layers/core.py:1043: UserWarning: models.model_MOCVAE is not loaded, but a Lambda layer uses it. It may cause errors.\n",
      "  warnings.warn('{} is not loaded, but a Lambda layer uses it. '\n"
     ]
    },
    {
     "name": "stdout",
     "output_type": "stream",
     "text": [
      "WARNING:tensorflow:No training configuration found in the save file, so the model was *not* compiled. Compile it manually.\n"
     ]
    }
   ],
   "source": [
    "encoder = load_model(model_name + 'e_best_encoder.h5', custom_objects={'sampling': sampling})"
   ]
  },
  {
   "cell_type": "code",
   "execution_count": 46,
   "metadata": {
    "ExecuteTime": {
     "end_time": "2024-04-07T19:58:33.229726Z",
     "start_time": "2024-04-07T19:53:58.772402Z"
    },
    "scrolled": true
   },
   "outputs": [
    {
     "name": "stdout",
     "output_type": "stream",
     "text": [
      "\n",
      "\n",
      "-Sex: F-\n",
      "Model accuracy with k= 3  neighbors:  47.51054852320673  +- 32.458860056738715\n",
      "Model accuracy with k= 4  neighbors:  46.70886075949367  +- 29.530997187779874\n",
      "Model accuracy with k= 5  neighbors:  46.53164556962025  +- 27.316631667292565\n",
      "Model accuracy with k= 10  neighbors:  44.68354430379747  +- 22.379660919704495\n",
      "\n",
      "\n",
      "-Sex: M-\n",
      "Model accuracy with k= 3  neighbors:  46.689895470383306  +- 33.56019551932477\n",
      "Model accuracy with k= 4  neighbors:  46.254355400696866  +- 29.386789327073988\n",
      "Model accuracy with k= 5  neighbors:  46.829268292682926  +- 26.622580480687198\n",
      "Model accuracy with k= 10  neighbors:  43.937282229965156  +- 21.692407114279305\n",
      "\n",
      "\n",
      "-Age>=65-\n",
      "Model accuracy with k= 3  neighbors:  48.30917874396135  +- 32.86444705641536\n",
      "Model accuracy with k= 4  neighbors:  46.79951690821256  +- 29.029568463503733\n",
      "Model accuracy with k= 5  neighbors:  47.00483091787439  +- 27.10179372364575\n",
      "Model accuracy with k= 10  neighbors:  44.371980676328505  +- 22.088246102479133\n",
      "\n",
      "\n",
      "-Age<65-\n",
      "Model accuracy with k= 3  neighbors:  45.398009950248785  +- 32.95128012249818\n",
      "Model accuracy with k= 4  neighbors:  46.082089552238806  +- 30.135650655160756\n",
      "Model accuracy with k= 5  neighbors:  46.11940298507463  +- 26.902545176191158\n",
      "Model accuracy with k= 10  neighbors:  44.365671641791046  +- 22.108295547408982\n"
     ]
    }
   ],
   "source": [
    "acc_mean_dict = dict()\n",
    "acc_stddev_dict = dict()\n",
    "\n",
    "for sex in range(1,3):\n",
    "    if sex==1:\n",
    "        sex_str = 'Sex: F'\n",
    "    elif sex==2:\n",
    "        sex_str = 'Sex: M'\n",
    "    \n",
    "    print('\\n')\n",
    "    print(sex_str)\n",
    "        \n",
    "    acc_mean_dict[sex_str] = []\n",
    "    acc_stddev_dict[sex_str] = []\n",
    "    \n",
    "    for k in [3,4,5,10]:\n",
    "        if model_name[-14:-8] == 'MOCVAE':\n",
    "            res_class = get_recom_results_stratify(data, encoder, n_imgs=500, n_neighbors=k, vae=True,\n",
    "                                                   sex=sex)\n",
    "        else:\n",
    "            res_class = get_recom_results_stratify(data, encoder, n_imgs=500, n_neighbors=k,\n",
    "                                                   sex=sex)\n",
    "\n",
    "        acc_mean, acc_stddev = get_recom_acc(res_class)\n",
    "        #rec_mean, rec_stddev = get_recom_rec(res_class)\n",
    "\n",
    "        print(\"Model accuracy with k=\", k , \" neighbors: \", acc_mean, \" +-\", acc_stddev)\n",
    "        #print(\"Model recall with k=\", k , \" neighbors: \", rec_mean, \" +-\", rec_stddev)\n",
    "    \n",
    "        acc_mean_dict[sex_str].append(acc_mean)\n",
    "        acc_stddev_dict[sex_str].append(acc_stddev)\n",
    "\n",
    "for age in range(1,3):\n",
    "    if age==1:\n",
    "        age_str = 'Age>=65'\n",
    "    elif age==2:\n",
    "        age_str = 'Age<65'\n",
    "    \n",
    "    print('\\n')\n",
    "    print(age_str)\n",
    "        \n",
    "    acc_mean_dict[age_str] = []\n",
    "    acc_stddev_dict[age_str] = []\n",
    "\n",
    "    for k in [3,4,5,10]:\n",
    "        if model_name[-14:-8] == 'MOCVAE':\n",
    "            res_class = get_recom_results_stratify(data, encoder, n_imgs=500, n_neighbors=k, vae=True,\n",
    "                                                   age=age)\n",
    "        else:\n",
    "            res_class = get_recom_results_stratify(data, encoder, n_imgs=500, n_neighbors=k,\n",
    "                                                   age=age)\n",
    "\n",
    "        acc_mean, acc_stddev = get_recom_acc(res_class)\n",
    "        #rec_mean, rec_stddev = get_recom_rec(res_class)\n",
    "\n",
    "        print(\"Model accuracy with k=\", k , \" neighbors: \", acc_mean, \" +-\", acc_stddev)\n",
    "            #print(\"Model recall with k=\", k , \" neighbors: \", rec_mean, \" +-\", rec_stddev)\n",
    "\n",
    "        acc_mean_dict[age_str].append(acc_mean)\n",
    "        acc_stddev_dict[age_str].append(acc_stddev)\n",
    "\n",
    "df_acc_mean = pd.DataFrame.from_dict(acc_mean_dict, orient='index', columns=[3, 4, 5, 10])\n",
    "df_acc_stddev = pd.DataFrame.from_dict(acc_stddev_dict, orient='index', columns=[3, 4, 5, 10])"
   ]
  },
  {
   "cell_type": "code",
   "execution_count": 53,
   "metadata": {
    "ExecuteTime": {
     "end_time": "2024-04-07T20:00:29.010345Z",
     "start_time": "2024-04-07T20:00:28.316219Z"
    }
   },
   "outputs": [
    {
     "data": {
      "text/plain": [
       "<AxesSubplot:>"
      ]
     },
     "execution_count": 53,
     "metadata": {},
     "output_type": "execute_result"
    },
    {
     "data": {
      "image/png": "[encoded data removed]",
      "text/plain": [
       "<Figure size 720x360 with 1 Axes>"
      ]
     },
     "metadata": {
      "needs_background": "light"
     },
     "output_type": "display_data"
    }
   ],
   "source": [
    "df_acc_mean.plot.bar(figsize=(10, 5), rot=45, fontsize=15, ylim=[43,50])"
   ]
  },
  {
   "cell_type": "code",
   "execution_count": 48,
   "metadata": {
    "ExecuteTime": {
     "end_time": "2024-04-07T19:58:36.197681Z",
     "start_time": "2024-04-07T19:58:35.954993Z"
    },
    "scrolled": true
   },
   "outputs": [
    {
     "data": {
      "text/html": [
       "<div>\n",
       "<style scoped>\n",
       "    .dataframe tbody tr th:only-of-type {\n",
       "        vertical-align: middle;\n",
       "    }\n",
       "\n",
       "    .dataframe tbody tr th {\n",
       "        vertical-align: top;\n",
       "    }\n",
       "\n",
       "    .dataframe thead th {\n",
       "        text-align: right;\n",
       "    }\n",
       "</style>\n",
       "<table border=\"1\" class=\"dataframe\">\n",
       "  <thead>\n",
       "    <tr style=\"text-align: right;\">\n",
       "      <th></th>\n",
       "      <th>3</th>\n",
       "      <th>4</th>\n",
       "      <th>5</th>\n",
       "      <th>10</th>\n",
       "    </tr>\n",
       "  </thead>\n",
       "  <tbody>\n",
       "    <tr>\n",
       "      <th>Sex: F</th>\n",
       "      <td>47.510549</td>\n",
       "      <td>46.708861</td>\n",
       "      <td>46.531646</td>\n",
       "      <td>44.683544</td>\n",
       "    </tr>\n",
       "    <tr>\n",
       "      <th>Sex: M</th>\n",
       "      <td>46.689895</td>\n",
       "      <td>46.254355</td>\n",
       "      <td>46.829268</td>\n",
       "      <td>43.937282</td>\n",
       "    </tr>\n",
       "    <tr>\n",
       "      <th>Age&gt;=65</th>\n",
       "      <td>48.309179</td>\n",
       "      <td>46.799517</td>\n",
       "      <td>47.004831</td>\n",
       "      <td>44.371981</td>\n",
       "    </tr>\n",
       "    <tr>\n",
       "      <th>Age&lt;65</th>\n",
       "      <td>45.398010</td>\n",
       "      <td>46.082090</td>\n",
       "      <td>46.119403</td>\n",
       "      <td>44.365672</td>\n",
       "    </tr>\n",
       "  </tbody>\n",
       "</table>\n",
       "</div>"
      ],
      "text/plain": [
       "                3          4          5          10\n",
       "Sex: F   47.510549  46.708861  46.531646  44.683544\n",
       "Sex: M   46.689895  46.254355  46.829268  43.937282\n",
       "Age>=65  48.309179  46.799517  47.004831  44.371981\n",
       "Age<65   45.398010  46.082090  46.119403  44.365672"
      ]
     },
     "execution_count": 48,
     "metadata": {},
     "output_type": "execute_result"
    }
   ],
   "source": [
    "df_acc_mean"
   ]
  },
  {
   "cell_type": "code",
   "execution_count": 49,
   "metadata": {
    "ExecuteTime": {
     "end_time": "2024-04-07T19:58:36.896786Z",
     "start_time": "2024-04-07T19:58:36.743213Z"
    },
    "scrolled": true
   },
   "outputs": [
    {
     "data": {
      "text/html": [
       "<div>\n",
       "<style scoped>\n",
       "    .dataframe tbody tr th:only-of-type {\n",
       "        vertical-align: middle;\n",
       "    }\n",
       "\n",
       "    .dataframe tbody tr th {\n",
       "        vertical-align: top;\n",
       "    }\n",
       "\n",
       "    .dataframe thead th {\n",
       "        text-align: right;\n",
       "    }\n",
       "</style>\n",
       "<table border=\"1\" class=\"dataframe\">\n",
       "  <thead>\n",
       "    <tr style=\"text-align: right;\">\n",
       "      <th></th>\n",
       "      <th>3</th>\n",
       "      <th>4</th>\n",
       "      <th>5</th>\n",
       "      <th>10</th>\n",
       "    </tr>\n",
       "  </thead>\n",
       "  <tbody>\n",
       "    <tr>\n",
       "      <th>Sex: F</th>\n",
       "      <td>32.458860</td>\n",
       "      <td>29.530997</td>\n",
       "      <td>27.316632</td>\n",
       "      <td>22.379661</td>\n",
       "    </tr>\n",
       "    <tr>\n",
       "      <th>Sex: M</th>\n",
       "      <td>33.560196</td>\n",
       "      <td>29.386789</td>\n",
       "      <td>26.622580</td>\n",
       "      <td>21.692407</td>\n",
       "    </tr>\n",
       "    <tr>\n",
       "      <th>Age&gt;=65</th>\n",
       "      <td>32.864447</td>\n",
       "      <td>29.029568</td>\n",
       "      <td>27.101794</td>\n",
       "      <td>22.088246</td>\n",
       "    </tr>\n",
       "    <tr>\n",
       "      <th>Age&lt;65</th>\n",
       "      <td>32.951280</td>\n",
       "      <td>30.135651</td>\n",
       "      <td>26.902545</td>\n",
       "      <td>22.108296</td>\n",
       "    </tr>\n",
       "  </tbody>\n",
       "</table>\n",
       "</div>"
      ],
      "text/plain": [
       "                3          4          5          10\n",
       "Sex: F   32.458860  29.530997  27.316632  22.379661\n",
       "Sex: M   33.560196  29.386789  26.622580  21.692407\n",
       "Age>=65  32.864447  29.029568  27.101794  22.088246\n",
       "Age<65   32.951280  30.135651  26.902545  22.108296"
      ]
     },
     "execution_count": 49,
     "metadata": {},
     "output_type": "execute_result"
    }
   ],
   "source": [
    "df_acc_stddev"
   ]
  },
  {
   "cell_type": "markdown",
   "metadata": {},
   "source": [
    "## Wass distance"
   ]
  },
  {
   "cell_type": "code",
   "execution_count": 7,
   "metadata": {
    "ExecuteTime": {
     "end_time": "2024-04-10T14:07:34.468426Z",
     "start_time": "2024-04-10T14:07:34.416330Z"
    }
   },
   "outputs": [],
   "source": [
    "BASE_PATH = ''\n",
    "model_name = BASE_PATH + 'results_padchest_v33_MOCVAE/models/'"
   ]
  },
  {
   "cell_type": "code",
   "execution_count": 8,
   "metadata": {
    "ExecuteTime": {
     "end_time": "2024-04-10T14:07:42.022847Z",
     "start_time": "2024-04-10T14:07:34.547848Z"
    }
   },
   "outputs": [
    {
     "name": "stderr",
     "output_type": "stream",
     "text": [
      "/opt/conda/lib/python3.8/site-packages/tensorflow/python/keras/layers/core.py:1043: UserWarning: models.model_MOCVAE is not loaded, but a Lambda layer uses it. It may cause errors.\n",
      "  warnings.warn('{} is not loaded, but a Lambda layer uses it. '\n"
     ]
    },
    {
     "name": "stdout",
     "output_type": "stream",
     "text": [
      "WARNING:tensorflow:No training configuration found in the save file, so the model was *not* compiled. Compile it manually.\n"
     ]
    }
   ],
   "source": [
    "encoder = load_model(model_name + 'e_best_encoder.h5', custom_objects={'sampling': sampling})"
   ]
  },
  {
   "cell_type": "code",
   "execution_count": 12,
   "metadata": {
    "ExecuteTime": {
     "end_time": "2024-04-10T15:00:37.500951Z",
     "start_time": "2024-04-10T14:24:41.181058Z"
    },
    "scrolled": true
   },
   "outputs": [
    {
     "name": "stdout",
     "output_type": "stream",
     "text": [
      "\n",
      "\n",
      "Sex: F\n",
      "Model wasserstein distance k= 3  neighbors:  0.41983390990497516  +- 0.1644277733343847\n",
      "Model wasserstein distance k= 4  neighbors:  0.43060881653232863  +- 0.16881338297284912\n",
      "Model wasserstein distance k= 5  neighbors:  0.43868529829851344  +- 0.16992228184414251\n",
      "Model wasserstein distance k= 10  neighbors:  0.46594186706642  +- 0.17954531217634012\n",
      "\n",
      "\n",
      "Sex: M\n",
      "Model wasserstein distance k= 3  neighbors:  0.4274583801127027  +- 0.14156439384153446\n",
      "Model wasserstein distance k= 4  neighbors:  0.4380309105808996  +- 0.140131829927222\n",
      "Model wasserstein distance k= 5  neighbors:  0.4437374223551442  +- 0.1388724807230789\n",
      "Model wasserstein distance k= 10  neighbors:  0.4713405031739668  +- 0.13819412209694945\n",
      "\n",
      "\n",
      "Age>=65\n",
      "Model wasserstein distance k= 3  neighbors:  0.4191664288897423  +- 0.15983179370159598\n",
      "Model wasserstein distance k= 4  neighbors:  0.43058404045818977  +- 0.16119932471090648\n",
      "Model wasserstein distance k= 5  neighbors:  0.4390898314717724  +- 0.16054049186662017\n",
      "Model wasserstein distance k= 10  neighbors:  0.4691485998268382  +- 0.16720880888802733\n",
      "\n",
      "\n",
      "Age<65\n",
      "Model wasserstein distance k= 3  neighbors:  0.4292737761482841  +- 0.14793383508188038\n",
      "Model wasserstein distance k= 4  neighbors:  0.4384710559022441  +- 0.15135563289023193\n",
      "Model wasserstein distance k= 5  neighbors:  0.4434592874910112  +- 0.15314005736082043\n",
      "Model wasserstein distance k= 10  neighbors:  0.46686674273114737  +- 0.15772600077278245\n"
     ]
    }
   ],
   "source": [
    "acc_mean_dict = dict()\n",
    "acc_stddev_dict = dict()\n",
    "\n",
    "for sex in range(1,3):\n",
    "    if sex==1:\n",
    "        sex_str = 'Sex: F'\n",
    "    elif sex==2:\n",
    "        sex_str = 'Sex: M'\n",
    "    \n",
    "    print('\\n')\n",
    "    print(sex_str)\n",
    "        \n",
    "    acc_mean_dict[sex_str] = []\n",
    "    acc_stddev_dict[sex_str] = []\n",
    "    \n",
    "    for k in [3,4,5,10]:\n",
    "        if model_name[-14:-8] == 'MOCVAE':\n",
    "            res_class = get_distance_results_stratify(data, encoder, n_imgs=500, n_neighbors=k, vae=True,\n",
    "                                                      sex=sex)\n",
    "        else:\n",
    "            res_class = get_distance_results_stratify(data, encoder, n_imgs=500, n_neighbors=k,\n",
    "                                                      sex=sex)\n",
    "\n",
    "        acc_mean, acc_stddev = get_dist_acc(res_class)\n",
    "        \n",
    "        print(\"Model wasserstein distance k=\", k , \" neighbors: \", acc_mean, \" +-\", acc_stddev)\n",
    "    \n",
    "        acc_mean_dict[sex_str].append(acc_mean)\n",
    "        acc_stddev_dict[sex_str].append(acc_stddev)\n",
    "\n",
    "for age in range(1,3):\n",
    "    if age==1:\n",
    "        age_str = 'Age>=65'\n",
    "    elif age==2:\n",
    "        age_str = 'Age<65'\n",
    "    \n",
    "    print('\\n')\n",
    "    print(age_str)\n",
    "        \n",
    "    acc_mean_dict[age_str] = []\n",
    "    acc_stddev_dict[age_str] = []\n",
    "\n",
    "    for k in [3,4,5,10]:\n",
    "        if model_name[-14:-8] == 'MOCVAE':\n",
    "            res_class = get_distance_results_stratify(data, encoder, n_imgs=500, n_neighbors=k, vae=True,\n",
    "                                                      age=age)\n",
    "        else:\n",
    "            res_class = get_distance_results_stratify(data, encoder, n_imgs=500, n_neighbors=k,\n",
    "                                                      age=age)\n",
    "\n",
    "        acc_mean, acc_stddev = get_dist_acc(res_class)\n",
    "\n",
    "        print(\"Model wasserstein distance k=\", k , \" neighbors: \", acc_mean, \" +-\", acc_stddev)\n",
    "\n",
    "        acc_mean_dict[age_str].append(acc_mean)\n",
    "        acc_stddev_dict[age_str].append(acc_stddev)\n",
    "\n",
    "df_acc_mean = pd.DataFrame.from_dict(acc_mean_dict, orient='index', columns=[3, 4, 5, 10])\n",
    "df_acc_stddev = pd.DataFrame.from_dict(acc_stddev_dict, orient='index', columns=[3, 4, 5, 10])"
   ]
  },
  {
   "cell_type": "code",
   "execution_count": 18,
   "metadata": {
    "ExecuteTime": {
     "end_time": "2024-04-10T15:01:08.606786Z",
     "start_time": "2024-04-10T15:01:08.260354Z"
    }
   },
   "outputs": [
    {
     "data": {
      "text/plain": [
       "<AxesSubplot:>"
      ]
     },
     "execution_count": 18,
     "metadata": {},
     "output_type": "execute_result"
    },
    {
     "data": {
      "image/png": "[encoded data removed]",
      "text/plain": [
       "<Figure size 720x360 with 1 Axes>"
      ]
     },
     "metadata": {
      "needs_background": "light"
     },
     "output_type": "display_data"
    }
   ],
   "source": [
    "df_acc_mean.plot.bar(figsize=(10, 5), rot=45, fontsize=15, ylim=[0.41,0.48])"
   ]
  },
  {
   "cell_type": "code",
   "execution_count": 14,
   "metadata": {
    "ExecuteTime": {
     "end_time": "2024-04-10T15:00:38.086148Z",
     "start_time": "2024-04-10T15:00:38.029423Z"
    },
    "scrolled": true
   },
   "outputs": [
    {
     "data": {
      "text/html": [
       "<div>\n",
       "<style scoped>\n",
       "    .dataframe tbody tr th:only-of-type {\n",
       "        vertical-align: middle;\n",
       "    }\n",
       "\n",
       "    .dataframe tbody tr th {\n",
       "        vertical-align: top;\n",
       "    }\n",
       "\n",
       "    .dataframe thead th {\n",
       "        text-align: right;\n",
       "    }\n",
       "</style>\n",
       "<table border=\"1\" class=\"dataframe\">\n",
       "  <thead>\n",
       "    <tr style=\"text-align: right;\">\n",
       "      <th></th>\n",
       "      <th>3</th>\n",
       "      <th>4</th>\n",
       "      <th>5</th>\n",
       "      <th>10</th>\n",
       "    </tr>\n",
       "  </thead>\n",
       "  <tbody>\n",
       "    <tr>\n",
       "      <th>Sex: F</th>\n",
       "      <td>0.419834</td>\n",
       "      <td>0.430609</td>\n",
       "      <td>0.438685</td>\n",
       "      <td>0.465942</td>\n",
       "    </tr>\n",
       "    <tr>\n",
       "      <th>Sex: M</th>\n",
       "      <td>0.427458</td>\n",
       "      <td>0.438031</td>\n",
       "      <td>0.443737</td>\n",
       "      <td>0.471341</td>\n",
       "    </tr>\n",
       "    <tr>\n",
       "      <th>Age&gt;=65</th>\n",
       "      <td>0.419166</td>\n",
       "      <td>0.430584</td>\n",
       "      <td>0.439090</td>\n",
       "      <td>0.469149</td>\n",
       "    </tr>\n",
       "    <tr>\n",
       "      <th>Age&lt;65</th>\n",
       "      <td>0.429274</td>\n",
       "      <td>0.438471</td>\n",
       "      <td>0.443459</td>\n",
       "      <td>0.466867</td>\n",
       "    </tr>\n",
       "  </tbody>\n",
       "</table>\n",
       "</div>"
      ],
      "text/plain": [
       "               3         4         5         10\n",
       "Sex: F   0.419834  0.430609  0.438685  0.465942\n",
       "Sex: M   0.427458  0.438031  0.443737  0.471341\n",
       "Age>=65  0.419166  0.430584  0.439090  0.469149\n",
       "Age<65   0.429274  0.438471  0.443459  0.466867"
      ]
     },
     "execution_count": 14,
     "metadata": {},
     "output_type": "execute_result"
    }
   ],
   "source": [
    "df_acc_mean"
   ]
  },
  {
   "cell_type": "code",
   "execution_count": 15,
   "metadata": {
    "ExecuteTime": {
     "end_time": "2024-04-10T15:00:38.204806Z",
     "start_time": "2024-04-10T15:00:38.150688Z"
    },
    "scrolled": true
   },
   "outputs": [
    {
     "data": {
      "text/html": [
       "<div>\n",
       "<style scoped>\n",
       "    .dataframe tbody tr th:only-of-type {\n",
       "        vertical-align: middle;\n",
       "    }\n",
       "\n",
       "    .dataframe tbody tr th {\n",
       "        vertical-align: top;\n",
       "    }\n",
       "\n",
       "    .dataframe thead th {\n",
       "        text-align: right;\n",
       "    }\n",
       "</style>\n",
       "<table border=\"1\" class=\"dataframe\">\n",
       "  <thead>\n",
       "    <tr style=\"text-align: right;\">\n",
       "      <th></th>\n",
       "      <th>3</th>\n",
       "      <th>4</th>\n",
       "      <th>5</th>\n",
       "      <th>10</th>\n",
       "    </tr>\n",
       "  </thead>\n",
       "  <tbody>\n",
       "    <tr>\n",
       "      <th>Sex: F</th>\n",
       "      <td>0.164428</td>\n",
       "      <td>0.168813</td>\n",
       "      <td>0.169922</td>\n",
       "      <td>0.179545</td>\n",
       "    </tr>\n",
       "    <tr>\n",
       "      <th>Sex: M</th>\n",
       "      <td>0.141564</td>\n",
       "      <td>0.140132</td>\n",
       "      <td>0.138872</td>\n",
       "      <td>0.138194</td>\n",
       "    </tr>\n",
       "    <tr>\n",
       "      <th>Age&gt;=65</th>\n",
       "      <td>0.159832</td>\n",
       "      <td>0.161199</td>\n",
       "      <td>0.160540</td>\n",
       "      <td>0.167209</td>\n",
       "    </tr>\n",
       "    <tr>\n",
       "      <th>Age&lt;65</th>\n",
       "      <td>0.147934</td>\n",
       "      <td>0.151356</td>\n",
       "      <td>0.153140</td>\n",
       "      <td>0.157726</td>\n",
       "    </tr>\n",
       "  </tbody>\n",
       "</table>\n",
       "</div>"
      ],
      "text/plain": [
       "               3         4         5         10\n",
       "Sex: F   0.164428  0.168813  0.169922  0.179545\n",
       "Sex: M   0.141564  0.140132  0.138872  0.138194\n",
       "Age>=65  0.159832  0.161199  0.160540  0.167209\n",
       "Age<65   0.147934  0.151356  0.153140  0.157726"
      ]
     },
     "execution_count": 15,
     "metadata": {},
     "output_type": "execute_result"
    }
   ],
   "source": [
    "df_acc_stddev"
   ]
  },
  {
   "cell_type": "code",
   "execution_count": null,
   "metadata": {},
   "outputs": [],
   "source": []
  }
 ],
 "metadata": {
  "accelerator": "GPU",
  "colab": {
   "authorship_tag": "ABX9TyOWnpEtbtBYdwzbkV75yS8R",
   "collapsed_sections": [],
   "name": "Autoencoder CBIR.ipynb",
   "provenance": []
  },
  "kernelspec": {
   "display_name": "Python 3",
   "language": "python",
   "name": "python3"
  },
  "language_info": {
   "codemirror_mode": {
    "name": "ipython",
    "version": 3
   },
   "file_extension": ".py",
   "mimetype": "text/x-python",
   "name": "python",
   "nbconvert_exporter": "python",
   "pygments_lexer": "ipython3",
   "version": "3.8.5"
  },
  "toc": {
   "base_numbering": 1,
   "nav_menu": {},
   "number_sections": false,
   "sideBar": true,
   "skip_h1_title": false,
   "title_cell": "Table of Contents",
   "title_sidebar": "Contents",
   "toc_cell": false,
   "toc_position": {
    "height": "calc(100% - 180px)",
    "left": "10px",
    "top": "150px",
    "width": "512px"
   },
   "toc_section_display": true,
   "toc_window_display": false
  },
  "varInspector": {
   "cols": {
    "lenName": 16,
    "lenType": 16,
    "lenVar": 40
   },
   "kernels_config": {
    "python": {
     "delete_cmd_postfix": "",
     "delete_cmd_prefix": "del ",
     "library": "var_list.py",
     "varRefreshCmd": "print(var_dic_list())"
    },
    "r": {
     "delete_cmd_postfix": ") ",
     "delete_cmd_prefix": "rm(",
     "library": "var_list.r",
     "varRefreshCmd": "cat(var_dic_list()) "
    }
   },
   "position": {
    "height": "350.844px",
    "left": "2191px",
    "right": "20px",
    "top": "120px",
    "width": "350px"
   },
   "types_to_exclude": [
    "module",
    "function",
    "builtin_function_or_method",
    "instance",
    "_Feature"
   ],
   "window_display": false
  }
 },
 "nbformat": 4,
 "nbformat_minor": 1
}
