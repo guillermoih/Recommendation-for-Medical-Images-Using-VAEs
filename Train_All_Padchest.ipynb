{
 "cells": [
  {
   "cell_type": "code",
   "execution_count": null,
   "metadata": {
    "ExecuteTime": {
     "end_time": "2024-05-07T18:45:51.361014Z",
     "start_time": "2024-05-07T18:45:51.343463Z"
    },
    "id": "ccPrNoU1RLyi"
   },
   "outputs": [],
   "source": [
    "%reload_ext autoreload\n",
    "%autoreload 2"
   ]
  },
  {
   "cell_type": "code",
   "execution_count": null,
   "metadata": {
    "ExecuteTime": {
     "end_time": "2024-05-07T18:45:55.294706Z",
     "start_time": "2024-05-07T18:45:51.972859Z"
    },
    "id": "KSTDYfx8RLyp"
   },
   "outputs": [],
   "source": [
    "import json, pickle\n",
    "\n",
    "from dataset.dataset_padchest import *\n",
    "\n",
    "from tensorflow.keras.models import load_model\n",
    "from tensorflow.keras.utils import plot_model"
   ]
  },
  {
   "cell_type": "code",
   "execution_count": null,
   "metadata": {
    "ExecuteTime": {
     "end_time": "2024-05-07T18:45:55.482813Z",
     "start_time": "2024-05-07T18:45:55.438443Z"
    },
    "id": "qcHei5BvRLyq"
   },
   "outputs": [],
   "source": [
    "with open('', 'r') as f:\n",
    "    config = json.load(f)"
   ]
  },
  {
   "cell_type": "code",
   "execution_count": null,
   "metadata": {
    "ExecuteTime": {
     "end_time": "2024-05-07T18:45:57.922965Z",
     "start_time": "2024-05-07T18:45:55.626948Z"
    },
    "id": "HF5nmmWXRLyr"
   },
   "outputs": [],
   "source": [
    "data = Dataset(config)\n",
    "\n",
    "with open(config[\"PATHS\"][\"IMAGES_PATH\"] + \"\", 'rb') as f:\n",
    "    data = pickle.load(f)"
   ]
  },
  {
   "cell_type": "code",
   "execution_count": null,
   "metadata": {
    "ExecuteTime": {
     "end_time": "2024-05-07T18:45:58.123401Z",
     "start_time": "2024-05-07T18:45:58.076513Z"
    }
   },
   "outputs": [],
   "source": [
    "filename_base = \"\""
   ]
  },
  {
   "cell_type": "markdown",
   "metadata": {
    "id": "rzt1jRi2RLyr"
   },
   "source": [
    "# Classifier"
   ]
  },
  {
   "cell_type": "code",
   "execution_count": null,
   "metadata": {
    "ExecuteTime": {
     "start_time": "2024-05-08T10:01:54.050Z"
    },
    "id": "nGaECCgXRLys",
    "scrolled": true
   },
   "outputs": [],
   "source": [
    "from train.train_classifier import *\n",
    "from models.model_Classifier import *\n",
    "\n",
    "for i in range(1,2):\n",
    "    filename = filename_base + str(1)*i + \"_Classifier/\"\n",
    "\n",
    "    config[\"PATHS\"][\"LOG_PATH\"] = filename\n",
    "    \n",
    "    os.system(\"bash ./CreateResultFolder.sh\")\n",
    "    os.system(\"mv ./results_padchest \" + filename)\n",
    "\n",
    "    model = Mocae(config)\n",
    "    model.create_mocae()\n",
    "\n",
    "    train(config, model, data)"
   ]
  },
  {
   "cell_type": "markdown",
   "metadata": {
    "id": "0Mc4R52SRLyt"
   },
   "source": [
    "# AE"
   ]
  },
  {
   "cell_type": "code",
   "execution_count": null,
   "metadata": {
    "ExecuteTime": {
     "start_time": "2024-02-19T10:01:43.641Z"
    },
    "id": "YKACqq5gRLyu"
   },
   "outputs": [],
   "source": [
    "from train.train_AE import *\n",
    "from models.model_AE import *\n",
    "\n",
    "for i in range(1,4):\n",
    "    filename = filename_base + str(1)*i + \"_AE/\"\n",
    "\n",
    "    config[\"PATHS\"][\"LOG_PATH\"] = filename\n",
    "    \n",
    "    os.system(\"bash ./CreateResultFolder.sh\")\n",
    "    os.system(\"mv ./results_padchest \" + filename)\n",
    "\n",
    "    model = Mocae(config)\n",
    "    model.create_mocae()\n",
    "\n",
    "    train(config, model, data)"
   ]
  },
  {
   "cell_type": "markdown",
   "metadata": {
    "id": "vN9gkZStRLyv"
   },
   "source": [
    "# MOCAE"
   ]
  },
  {
   "cell_type": "code",
   "execution_count": null,
   "metadata": {
    "ExecuteTime": {
     "start_time": "2024-02-20T17:52:54.610Z"
    },
    "id": "moHkX32nRLyv"
   },
   "outputs": [],
   "source": [
    "from train.train_MOCAE import *\n",
    "from models.model_MOCAE import *\n",
    "\n",
    "for i in range(1,6):\n",
    "    for j in range(1,4):\n",
    "        filename = filename_base + str(i)*j + \"_MOCAE/\"\n",
    "\n",
    "        os.system(\"bash ./CreateResultFolder.sh\")\n",
    "        os.system(\"mv ./results_padchest \" + filename)\n",
    "\n",
    "        config[\"PATHS\"][\"LOG_PATH\"] = filename\n",
    "        config[\"train\"][\"loss_weights\"][\"class\"] = 1/(pow(10,(i-1)))\n",
    "\n",
    "        model = Mocae(config)\n",
    "        model.create_mocae()\n",
    "\n",
    "        train(config, model, data)"
   ]
  },
  {
   "cell_type": "markdown",
   "metadata": {
    "id": "TCEREMJkRLyx"
   },
   "source": [
    "# MOCVAE"
   ]
  },
  {
   "cell_type": "code",
   "execution_count": null,
   "metadata": {
    "ExecuteTime": {
     "start_time": "2024-05-07T18:45:57.257Z"
    },
    "id": "SAtz-UXORLyx"
   },
   "outputs": [],
   "source": [
    "from train.train_MOCAE import *\n",
    "from models.model_MOCVAE import *\n",
    "\n",
    "for i in range(2,3):\n",
    "    for j in range(1,2):\n",
    "        filename = filename_base + str(i)*j + \"_MOCVAE/\"\n",
    "\n",
    "        os.system(\"bash ./CreateResultFolder.sh\")\n",
    "        os.system(\"mv ./results_padchest \" + filename)\n",
    "\n",
    "        config[\"PATHS\"][\"LOG_PATH\"] = filename\n",
    "        config[\"train\"][\"loss_weights\"][\"class\"] = 1/(pow(10,(i-1)))\n",
    "\n",
    "        model = Mocae(config)\n",
    "        model.create_mocae()\n",
    "        \n",
    "        train(config, model, data)"
   ]
  }
 ],
 "metadata": {
  "accelerator": "GPU",
  "colab": {
   "provenance": []
  },
  "kernelspec": {
   "display_name": "Python 3",
   "language": "python",
   "name": "python3"
  },
  "language_info": {
   "codemirror_mode": {
    "name": "ipython",
    "version": 3
   },
   "file_extension": ".py",
   "mimetype": "text/x-python",
   "name": "python",
   "nbconvert_exporter": "python",
   "pygments_lexer": "ipython3",
   "version": "3.8.5"
  },
  "toc": {
   "base_numbering": 1,
   "nav_menu": {},
   "number_sections": false,
   "sideBar": true,
   "skip_h1_title": false,
   "title_cell": "Table of Contents",
   "title_sidebar": "Contents",
   "toc_cell": false,
   "toc_position": {},
   "toc_section_display": true,
   "toc_window_display": false
  },
  "varInspector": {
   "cols": {
    "lenName": 16,
    "lenType": 16,
    "lenVar": 40
   },
   "kernels_config": {
    "python": {
     "delete_cmd_postfix": "",
     "delete_cmd_prefix": "del ",
     "library": "var_list.py",
     "varRefreshCmd": "print(var_dic_list())"
    },
    "r": {
     "delete_cmd_postfix": ") ",
     "delete_cmd_prefix": "rm(",
     "library": "var_list.r",
     "varRefreshCmd": "cat(var_dic_list()) "
    }
   },
   "position": {
    "height": "394.844px",
    "left": "2190px",
    "right": "20px",
    "top": "120px",
    "width": "350px"
   },
   "types_to_exclude": [
    "module",
    "function",
    "builtin_function_or_method",
    "instance",
    "_Feature"
   ],
   "window_display": false
  }
 },
 "nbformat": 4,
 "nbformat_minor": 1
}
